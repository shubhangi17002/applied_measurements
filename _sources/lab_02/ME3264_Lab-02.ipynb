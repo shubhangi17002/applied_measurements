{
 "cells": [
  {
   "cell_type": "code",
   "execution_count": 1,
   "metadata": {},
   "outputs": [],
   "source": [
    "import numpy as np\n",
    "import matplotlib.pyplot as plt\n",
    "import pandas as pd\n",
    "\n",
    "plt.rcParams.update({'font.size': 14})\n",
    "plt.rcParams['lines.linewidth'] = 3\n",
    "pi=np.pi"
   ]
  },
  {
   "cell_type": "markdown",
   "metadata": {},
   "source": [
    "ME 3264 - Applied Measurements Laboratory\n",
    "=====================================\n",
    "\n",
    "Lab #2 - Heat Pipe\n",
    "=====================================\n",
    "\n",
    "## Objective\n",
    "The objectives of this laboratory are :\n",
    "\n",
    "1. Understand the heat transfer characteristics of a heat pipe\n",
    "2. Observe the thermal response time of a heat pipe in comparison to a copper rod\n",
    "3. Measure the response time and temperature profile along the heat pipe\n",
    "4. Calculate the effective thermal conductivity of the heat pipe and compare it with high thermal conductivity materials"
   ]
  },
  {
   "cell_type": "markdown",
   "metadata": {},
   "source": [
    "## Background\n",
    "\n",
    "A heat pipe is a passive heat transfer device that can transfer energy with a much smaller temperature drop as compared to high thermal conductivity materials such as copper. Heat pipe devices combine the principles of thermal conductivity and phase transition to effectively transfer bewtween two solid interfaces.\n"
   ]
  },
  {
   "cell_type": "markdown",
   "metadata": {},
   "source": [
    "### Working principle of heat pipe\n",
    "\n",
    "In general, heat pipes consist of a shell (wall), a wick and a small amount of working fluid, as shown in Fig. 1. Typically, three sections can be identified in a heat pipe: the evaporator, the condenser, and the adiabatic sections. \n",
    "\n",
    "The evaporator section absorbs heat from a high temperature source and vaporizes the working fluid inside. The vapor then flows through the adiabatic section and condenses at the condenser section, releasing its latent heat of condensation to a low temperature source. The condensed liquid returns to the evaporator through the wick driven by capillary force (Fig. 1). A wickless heat pipe that relies on gravity to return the condensate to the evaporator section is called a thermosyphon.\n",
    "\n",
    "<center><img src=\"./HPAnimation.gif\" alt=\"Drawing\" style=\"width: 400px;\"/> </center>\n",
    "<center>Figure 1:  Working principle of heat pipe  </center>\n",
    "\n",
    "### Benefits and limitations\n",
    "\n",
    "Benefits of heat pipes:\n",
    "- Heat pipes have high effective thermal conductivities which allows them to transfer heat over long distances, with minimal temperature drop.\n",
    "- Passive operation. No moving parts, and require no energy input other than heat to operate.\n",
    "- Isothermal operation.  Very isothermal surfaces, with temperature variations as low as ± 5 mK.\n",
    "- Long life with no maintenance. No moving parts that could wear out. The vacuum seal prevents liquid losses, and protective coatings can give each device a long-lasting protection against corrosion.\n",
    "- Lower costs. By lowering the operating temperature, these devices can increase the Mean Time Between Failure (MTBF) for electronic assemblies.  In turn, this lowers the maintenance required and the replacement costs.  In HVAC systems, they can reduce the energy required for heating and air conditioning, with payback times of a couple of years.\n",
    "\n",
    "The heat transfer capability of a heat pipe is not unlimited. There are several mechanisms that cause this limitation. For a wicked heat pipe in which the return of liquid to the condenser section relies on capillary action of the wick, the most important limitation is the capillary limit. The capillary limit is encountered when the wick is not capable of producing enough pressure to pump the liquid from the condenser back to the evaporator. When this heat transfer limitation is reached, the evaporator temperature will increase sharply because there is not enough liquid in the wick structure to evaporate and absorb this heat input.\n"
   ]
  },
  {
   "cell_type": "markdown",
   "metadata": {},
   "source": [
    "### Effective length and thermal conductivity of heat pipe\n",
    "\n",
    "Assuming 1-D heat conduction through a rod of length $L(m) $ and conductivity $k (W/m.K)$, the heat flux $\\bar{q} (W/m^2)$ can be expressed using Fourier's law of heat conduction [2]\n",
    "\n",
    "$\\small \\bar{q} = -k \\nabla T$  (1)\n",
    "\n",
    "where, $\\nabla T$ is the 1-D temprature gradient . The minus sign in Eqn(1) indicates that the heat is always transferred in the direction of decreasing temperature. Further assuming linear temperature profile across the rod, Eqn(1) can be written as \n",
    "\n",
    "$\\small \\bar{q} = k\\frac{\\Delta T}{L}$   (2)\n",
    "\n",
    "In order to quantify the performance of a heat pipe and compare it with other heat transfer devices, the concept of effective thermal conductivity, $k_{eff}$, is introduced. Effective thermal conductivity is a conductivity that an imaginary rod with the same diameter as the HP must have to be able to transfer the same amount of heat as the heat pipe over a distance equal to the adiabatic section length of the heat pipe plus half of the evaporator and condenser section lengths, $L_{eff}$. This length is usually called the effective length of heat transfer and defined as, \n",
    "\n",
    "$\\small L_{eff} = \\frac{L_e}{2} + L_a + \\frac{L_c}{2}$   (3)\n",
    "\n",
    "where ${L_e}$, $L_a$ and ${L_c}$ are the lengths of evaporator, adiabatic and condesor section of the heat pipe, respectively. \n",
    "\n",
    "The thermal resistance, $R$, of such an imaginary rod is [7,8]\n",
    "\n",
    "$R = R_{HP} = \\frac{L_{eff}}{k_{eff} q_{HP}} = \\frac{T_{e, ave}-T_{c, ave}}{q_{HP}} $  (4)\n",
    "\n",
    "Applying the analogy of conductive heat transfer Eqn (2) to heat pipe, \n",
    "\n",
    "$\\small \\bar{q_{HP}} = k_{eff}  \\frac{\\Delta T_{HP}}{L_{eff}}$   (5)\n",
    "\n",
    "$\\small \\bar{q_{HP}} = k_{eff}  \\frac{(T_{e, ave}-T_{c, ave})}{L_{eff}}$   (6)\n",
    "\n",
    "where, $\\bar{q_{HP}}$ is the heat flux applied to heat pipe, $k_{eff}$ is the effective thermal conductivity , $L_{eff}$ is the effective length, $T_{e, ave}$ is the average temperature of evaporator section, $T_{c, ave}$ is the average temperature of condenser section of heat pipe at steady state.\n",
    "\n",
    "For the heat pipe with cross section $A_c = \\pi \\frac{D^2}{4}$ of outer diameter $D$, and applied heat input $q_{HP} (W)$, the $k_{eff}$ can be obatined as,\n",
    "\n",
    "$\\small k_{eff} = \\frac {(\\frac{L_e}{2} + L_a + \\frac{L_c}{2})  q_{HP}}{(T_{e, ave}-T_{c, ave}) A_c}$  (7)\n"
   ]
  },
  {
   "cell_type": "markdown",
   "metadata": {},
   "source": [
    "#### Problem 1 \n",
    "\n",
    "The heat input of 3W is applied to evaporator end of the heat pipe. [3watt_heat_pipe.csv](3watt_heat_pipe.csv) contains the measured temprature data from thermocouples (TC1-TC7) embedded in evaporator and condenser section of the heat pipe. \n",
    "1. Use this data to produce a graph that shows the variations of the average in evaporator and condenser temperatures with time\n",
    "2. Calcualte $k_{eff}$ of the heat pipe"
   ]
  },
  {
   "cell_type": "code",
   "execution_count": 2,
   "metadata": {},
   "outputs": [
    {
     "data": {
      "text/html": [
       "<div>\n",
       "<style scoped>\n",
       "    .dataframe tbody tr th:only-of-type {\n",
       "        vertical-align: middle;\n",
       "    }\n",
       "\n",
       "    .dataframe tbody tr th {\n",
       "        vertical-align: top;\n",
       "    }\n",
       "\n",
       "    .dataframe thead th {\n",
       "        text-align: right;\n",
       "    }\n",
       "</style>\n",
       "<table border=\"1\" class=\"dataframe\">\n",
       "  <thead>\n",
       "    <tr style=\"text-align: right;\">\n",
       "      <th></th>\n",
       "      <th>Time</th>\n",
       "      <th>Temperature</th>\n",
       "      <th>Temperature_0</th>\n",
       "      <th>Temperature_1</th>\n",
       "      <th>Temperature_2</th>\n",
       "      <th>heat C</th>\n",
       "      <th>heat B</th>\n",
       "      <th>heat A</th>\n",
       "    </tr>\n",
       "  </thead>\n",
       "  <tbody>\n",
       "    <tr>\n",
       "      <th>0</th>\n",
       "      <td>1/15/2021 13:19:41.925</td>\n",
       "      <td>22.760077</td>\n",
       "      <td>22.911772</td>\n",
       "      <td>22.767651</td>\n",
       "      <td>22.796050</td>\n",
       "      <td>22.850999</td>\n",
       "      <td>22.813607</td>\n",
       "      <td>22.858808</td>\n",
       "    </tr>\n",
       "    <tr>\n",
       "      <th>1</th>\n",
       "      <td>1/15/2021 13:19:42.425</td>\n",
       "      <td>22.765022</td>\n",
       "      <td>22.916007</td>\n",
       "      <td>22.786086</td>\n",
       "      <td>22.804309</td>\n",
       "      <td>22.835430</td>\n",
       "      <td>22.808215</td>\n",
       "      <td>22.871165</td>\n",
       "    </tr>\n",
       "    <tr>\n",
       "      <th>2</th>\n",
       "      <td>1/15/2021 13:19:42.925</td>\n",
       "      <td>22.770205</td>\n",
       "      <td>22.932074</td>\n",
       "      <td>22.789138</td>\n",
       "      <td>22.808545</td>\n",
       "      <td>22.843116</td>\n",
       "      <td>22.801228</td>\n",
       "      <td>22.868674</td>\n",
       "    </tr>\n",
       "    <tr>\n",
       "      <th>3</th>\n",
       "      <td>1/15/2021 13:19:43.425</td>\n",
       "      <td>22.757276</td>\n",
       "      <td>22.943283</td>\n",
       "      <td>22.778576</td>\n",
       "      <td>22.809105</td>\n",
       "      <td>22.827747</td>\n",
       "      <td>22.815677</td>\n",
       "      <td>22.884543</td>\n",
       "    </tr>\n",
       "    <tr>\n",
       "      <th>4</th>\n",
       "      <td>1/15/2021 13:19:43.925</td>\n",
       "      <td>22.758858</td>\n",
       "      <td>22.933743</td>\n",
       "      <td>22.781341</td>\n",
       "      <td>22.802168</td>\n",
       "      <td>22.812166</td>\n",
       "      <td>22.811456</td>\n",
       "      <td>22.882924</td>\n",
       "    </tr>\n",
       "  </tbody>\n",
       "</table>\n",
       "</div>"
      ],
      "text/plain": [
       "                     Time  Temperature  Temperature_0  Temperature_1  \\\n",
       "0  1/15/2021 13:19:41.925    22.760077      22.911772      22.767651   \n",
       "1  1/15/2021 13:19:42.425    22.765022      22.916007      22.786086   \n",
       "2  1/15/2021 13:19:42.925    22.770205      22.932074      22.789138   \n",
       "3  1/15/2021 13:19:43.425    22.757276      22.943283      22.778576   \n",
       "4  1/15/2021 13:19:43.925    22.758858      22.933743      22.781341   \n",
       "\n",
       "   Temperature_2     heat C     heat B     heat A  \n",
       "0      22.796050  22.850999  22.813607  22.858808  \n",
       "1      22.804309  22.835430  22.808215  22.871165  \n",
       "2      22.808545  22.843116  22.801228  22.868674  \n",
       "3      22.809105  22.827747  22.815677  22.884543  \n",
       "4      22.802168  22.812166  22.811456  22.882924  "
      ]
     },
     "execution_count": 2,
     "metadata": {},
     "output_type": "execute_result"
    }
   ],
   "source": [
    "# Read csv file and process the data\n",
    "data = pd.read_csv('3watt_heat_pipe.csv',skip_blank_lines=True)     # read csv file\n",
    "data =data.dropna()   # removes blank rows from csv file\n",
    "data.head(5)   # display first 5 rows in the data "
   ]
  },
  {
   "cell_type": "code",
   "execution_count": 3,
   "metadata": {},
   "outputs": [
    {
     "data": {
      "text/html": [
       "<div>\n",
       "<style scoped>\n",
       "    .dataframe tbody tr th:only-of-type {\n",
       "        vertical-align: middle;\n",
       "    }\n",
       "\n",
       "    .dataframe tbody tr th {\n",
       "        vertical-align: top;\n",
       "    }\n",
       "\n",
       "    .dataframe thead th {\n",
       "        text-align: right;\n",
       "    }\n",
       "</style>\n",
       "<table border=\"1\" class=\"dataframe\">\n",
       "  <thead>\n",
       "    <tr style=\"text-align: right;\">\n",
       "      <th></th>\n",
       "      <th>Time</th>\n",
       "      <th>Temperature</th>\n",
       "      <th>Temperature_0</th>\n",
       "      <th>Temperature_1</th>\n",
       "      <th>Temperature_2</th>\n",
       "      <th>heat C</th>\n",
       "      <th>heat B</th>\n",
       "      <th>heat A</th>\n",
       "      <th>Time_elapsed</th>\n",
       "    </tr>\n",
       "  </thead>\n",
       "  <tbody>\n",
       "    <tr>\n",
       "      <th>0</th>\n",
       "      <td>2021-01-15 13:19:41.925</td>\n",
       "      <td>22.760077</td>\n",
       "      <td>22.911772</td>\n",
       "      <td>22.767651</td>\n",
       "      <td>22.796050</td>\n",
       "      <td>22.850999</td>\n",
       "      <td>22.813607</td>\n",
       "      <td>22.858808</td>\n",
       "      <td>NaN</td>\n",
       "    </tr>\n",
       "    <tr>\n",
       "      <th>1</th>\n",
       "      <td>2021-01-15 13:19:42.425</td>\n",
       "      <td>22.765022</td>\n",
       "      <td>22.916007</td>\n",
       "      <td>22.786086</td>\n",
       "      <td>22.804309</td>\n",
       "      <td>22.835430</td>\n",
       "      <td>22.808215</td>\n",
       "      <td>22.871165</td>\n",
       "      <td>0.5</td>\n",
       "    </tr>\n",
       "    <tr>\n",
       "      <th>2</th>\n",
       "      <td>2021-01-15 13:19:42.925</td>\n",
       "      <td>22.770205</td>\n",
       "      <td>22.932074</td>\n",
       "      <td>22.789138</td>\n",
       "      <td>22.808545</td>\n",
       "      <td>22.843116</td>\n",
       "      <td>22.801228</td>\n",
       "      <td>22.868674</td>\n",
       "      <td>1.0</td>\n",
       "    </tr>\n",
       "    <tr>\n",
       "      <th>3</th>\n",
       "      <td>2021-01-15 13:19:43.425</td>\n",
       "      <td>22.757276</td>\n",
       "      <td>22.943283</td>\n",
       "      <td>22.778576</td>\n",
       "      <td>22.809105</td>\n",
       "      <td>22.827747</td>\n",
       "      <td>22.815677</td>\n",
       "      <td>22.884543</td>\n",
       "      <td>1.5</td>\n",
       "    </tr>\n",
       "    <tr>\n",
       "      <th>4</th>\n",
       "      <td>2021-01-15 13:19:43.925</td>\n",
       "      <td>22.758858</td>\n",
       "      <td>22.933743</td>\n",
       "      <td>22.781341</td>\n",
       "      <td>22.802168</td>\n",
       "      <td>22.812166</td>\n",
       "      <td>22.811456</td>\n",
       "      <td>22.882924</td>\n",
       "      <td>2.0</td>\n",
       "    </tr>\n",
       "  </tbody>\n",
       "</table>\n",
       "</div>"
      ],
      "text/plain": [
       "                     Time  Temperature  Temperature_0  Temperature_1  \\\n",
       "0 2021-01-15 13:19:41.925    22.760077      22.911772      22.767651   \n",
       "1 2021-01-15 13:19:42.425    22.765022      22.916007      22.786086   \n",
       "2 2021-01-15 13:19:42.925    22.770205      22.932074      22.789138   \n",
       "3 2021-01-15 13:19:43.425    22.757276      22.943283      22.778576   \n",
       "4 2021-01-15 13:19:43.925    22.758858      22.933743      22.781341   \n",
       "\n",
       "   Temperature_2     heat C     heat B     heat A  Time_elapsed  \n",
       "0      22.796050  22.850999  22.813607  22.858808           NaN  \n",
       "1      22.804309  22.835430  22.808215  22.871165           0.5  \n",
       "2      22.808545  22.843116  22.801228  22.868674           1.0  \n",
       "3      22.809105  22.827747  22.815677  22.884543           1.5  \n",
       "4      22.802168  22.812166  22.811456  22.882924           2.0  "
      ]
     },
     "execution_count": 3,
     "metadata": {},
     "output_type": "execute_result"
    }
   ],
   "source": [
    "# Creating new column for elapsed time from the first date_time column\n",
    "data['Time'] = pd.to_datetime(data['Time'])  # change datatype of column to datetime\n",
    "\n",
    "# add Time_elapsed column , sec\n",
    "position = data.columns.get_loc('Time')\n",
    "data['Time_elapsed'] =  data.iloc[1:, position] - data.iat[0, position]  \n",
    "data['Time_elapsed'] = data.Time_elapsed.dt.total_seconds() \n",
    "\n",
    "data.head(5)  # First row for Time_elapsed is not defined"
   ]
  },
  {
   "cell_type": "code",
   "execution_count": 4,
   "metadata": {},
   "outputs": [
    {
     "data": {
      "text/plain": [
       "Text(0, 0.5, 'T (deg C)')"
      ]
     },
     "execution_count": 4,
     "metadata": {},
     "output_type": "execute_result"
    },
    {
     "data": {
      "image/png": "[encoded data removed]",
      "text/plain": [
       "<Figure size 432x288 with 1 Axes>"
      ]
     },
     "metadata": {
      "needs_background": "light"
     },
     "output_type": "display_data"
    }
   ],
   "source": [
    "# Plot average  evaporator and condenser temperatures\n",
    "plt.figure()\n",
    "Tavg_c = np.array((data['Temperature'].values + data['Temperature_0'].values +data['Temperature_1'].values+data['Temperature_2'].values)/4)\n",
    "Tavg_e = np.array((data['heat A'].values + data['heat B'].values+data['heat C'].values)/3)\n",
    "plt.plot(data['Time_elapsed'].values, Tavg_e ,'-r', label='Tavg_evaporator')\n",
    "plt.plot(data['Time_elapsed'].values, Tavg_c ,'-b',label='Tavg_condensor')\n",
    "plt.legend()\n",
    "\n",
    "plt.xlabel('time,s')\n",
    "plt.ylabel('T (deg C)')\n"
   ]
  },
  {
   "cell_type": "code",
   "execution_count": 5,
   "metadata": {},
   "outputs": [
    {
     "name": "stdout",
     "output_type": "stream",
     "text": [
      "The effective conductivity of heat pipe is 14103.13 W/m.K\n"
     ]
    }
   ],
   "source": [
    "# Calculate effective thermal conductivity\n",
    "\n",
    "def k_eff(L_eff, q_hp, D, Tavg_e, Tavg_c):\n",
    "    '''returns the effective conductivity given \n",
    "    Le,La,Lc, q_hp, D,Tavg_c, T_avge'''\n",
    "    k_eff = L_eff*q_hp/(Tavg_e - Tavg_c)/(pi*D**2/4)\n",
    "    return k_eff\n",
    "\n",
    "\n",
    "# Average temp at steady state, avergae of last 2 minute\n",
    "\n",
    "Te = np.mean(Tavg_e[-120:-1])   # numpy back indexing, -1 if for the last element\n",
    "Tc = np.mean(Tavg_c[-120:-1])\n",
    "\n",
    "L_eff = 0.2 #m\n",
    "D = 0.008 #m\n",
    "q_hp = 3 # Watt\n",
    "\n",
    "k_eff = k_eff(L_eff, q_hp, D, Te, Tc)\n",
    "\n",
    "print(\"The effective conductivity of heat pipe is %1.2f W/m.K\" %k_eff)"
   ]
  },
  {
   "cell_type": "markdown",
   "metadata": {},
   "source": [
    "#### Check your work\n",
    "\n",
    "Repeat the problem for $q_{Hp} = 9W $. Use the input data from - [9watt_heat_pipe.csv](9watt_heat_pipe.csv)\n",
    "What is the $k_{eff}$ for this case?"
   ]
  },
  {
   "cell_type": "code",
   "execution_count": null,
   "metadata": {},
   "outputs": [],
   "source": [
    "## # enter your work here\n",
    "k_eff =    #  W/m.K\n",
    "\n",
    "import check_lab02 as p\n",
    "p.check_p01(k_eff)\n"
   ]
  },
  {
   "cell_type": "markdown",
   "metadata": {},
   "source": [
    "## Procedure \n",
    "\n",
    "The procedure and details of the experiment are included in a lab-handout [1].\n",
    "\n",
    "[ME3264_Lab_2_Heat_Pipe.pdf](https://drive.google.com/file/d/1ZHPFokeADq2eiYQDQHjPDy2861DgZISD/view?usp=sharing)\n"
   ]
  },
  {
   "cell_type": "markdown",
   "metadata": {},
   "source": [
    "## Notes on error propagation\n",
    "\n",
    "The theory of error analysis gives a general formula for the uncertainty when a result is found by a calculation from a collection of measurements [4],. The formula is based on the idea of a first-order Taylor series expansion of functions of many variables. For a well behaved function $f(x,y,z,...)$\n",
    "of the completely independent physical variables $x,y,z,...$ which have uncertainties $,\\sigma_x,\\sigma_y,\\sigma_z,...$ then the uncertainty in the value of the result $\\sigma_f$ is given by the formula:\n",
    "\n",
    "$\\sigma_f^2 = (\\frac{\\partial{f}}{\\partial x})^2\\sigma_x^2 + (\\frac{\\partial{f}}{\\partial y})^2\\sigma_y^2 + (\\frac{\\partial{f}}{\\partial z})^2\\sigma_z^2$   \n",
    "\n",
    "For more details on error propagation refer to [ME 3264- Lab 1 - Heat Engine Notebook ](https://cooperrc.github.io/applied_measurements/lab_01/ME3264_Lab-01.html#lab-1-heat-engine)\n"
   ]
  },
  {
   "cell_type": "markdown",
   "metadata": {},
   "source": [
    "## References \n",
    "\n",
    "1. [ME3264 Lab2 - Heat Pipe, Prof. Bryan W. Weber (Spring 2020)](https://drive.google.com/file/d/1ZHPFokeADq2eiYQDQHjPDy2861DgZISD/view?usp=sharing)\n",
    "2. F.P.Incropera and D.P. Dewitt, Fundamentals of Heat and Mass Transfer, 7th Edition, Chapter 2.\n",
    "3. [Heat pipe, Wikipedia](https://en.wikipedia.org/wiki/Heat_pipe)\n",
    "4. [Notes on measurement uncertainties](https://drive.google.com/file/d/1WBDkb-9fM6Y-wmQF3pl28JAt8JReiKJl/view?usp=sharing)\n",
    "5. [ME 3264- Lab 1 - Heat Engine Notebook ](https://cooperrc.github.io/applied_measurements/lab_01/ME3264_Lab-01.html#lab-1-heat-engine)\n",
    "5. [Heat pipe .nl](http://www.heatpipe.nl/index.php?page=animation&lang=EN)\n",
    "7. M. Mahdavi, S. Tiari, S. De Schampheleire, S. Qiu, Experimental study of the thermal characteristics of a heat pipe, Exp. Therm. Fluid Sci. 93 (2018) 292–304.\n",
    "8. D.S. Naruka, R. Dwivedi, P.K. Singh, Experimental inquisition of heat pipe: performance evaluation for different fluids, Exp. Heat Transf. 33 (2020) 668–682."
   ]
  }
 ],
 "metadata": {
  "kernelspec": {
   "display_name": "Python 3",
   "language": "python",
   "name": "python3"
  },
  "language_info": {
   "codemirror_mode": {
    "name": "ipython",
    "version": 3
   },
   "file_extension": ".py",
   "mimetype": "text/x-python",
   "name": "python",
   "nbconvert_exporter": "python",
   "pygments_lexer": "ipython3",
   "version": "3.8.3"
  }
 },
 "nbformat": 4,
 "nbformat_minor": 4
}
