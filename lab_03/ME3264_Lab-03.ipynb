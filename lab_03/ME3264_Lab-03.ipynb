{
 "cells": [
  {
   "cell_type": "code",
   "execution_count": 1,
   "metadata": {},
   "outputs": [],
   "source": [
    "import numpy as np\n",
    "import matplotlib.pyplot as plt\n",
    "import pandas as pd\n",
    "\n",
    "plt.rcParams.update({'font.size': 14})\n",
    "plt.rcParams['lines.linewidth'] = 3\n",
    "pi=np.pi"
   ]
  },
  {
   "cell_type": "markdown",
   "metadata": {},
   "source": [
    "ME 3264 - Applied Measurements Laboratory\n",
    "=====================================\n",
    "\n",
    "Lab #3a - Fluid Flow Measurement\n",
    "=====================================\n",
    "\n",
    "## Objective\n",
    "The objectives of this laboratory are :\n",
    "\n",
    "1. To use different fluid flow measurement devices - venturi meter, rotameter, turbine meter\n",
    "2. To understand the advantages and disadvantages of of different fluid flow measurement devices"
   ]
  },
  {
   "cell_type": "markdown",
   "metadata": {},
   "source": [
    "## Background\n",
    "### Flow Measurement\n",
    "\n",
    "Flow measurement is the quantification of bulk fluid movement. Accurate measurement of the flow rate of liquids and gases is an essential requirement for maintaining the quality of industrial processes. In fact, most of the industrial control loops control the flow rates of incoming liquids or gases in order to achieve the control objectives. \n",
    "\n",
    "Flow can be measured in a variety of ways depending upon the requirements. It could be volumetric or mass flow rate, the medium could be gas or liquid, the measurement could be intrusive or non-intrusive, and so on. As a result, there are different types of flow measuring techniques that are used in industries. In this lab, the focus is on four flow measurement techniques - volumetric technique(Fig. 1a), rotameter (Fig. 1b), Venturi meter (Fig. 2a), and turbine meter (Fig. 2b). \n",
    "\n",
    "\n",
    "<center><img src=\"flowmeters_1.png\" alt=\"Drawing\" style=\"width: 600px;\"/> </center>\n",
    "<center>Figure 1:  (a) volumetric technique (b)Rotameter  </center>\n",
    "\n",
    "\n",
    "<center><img src=\"flowmeters_2.png\" alt=\"Drawing\" style=\"width: 600px;\"/> </center>\n",
    "<center>Figure 2:  (a) Venturi meter (b)Turbine meter    </center>\n",
    "\n"
   ]
  },
  {
   "cell_type": "markdown",
   "metadata": {},
   "source": [
    "#### Volumetric technique \n",
    "\n",
    "The Hydraulic Bench provides a reservoir with sloping sides connected to\n",
    "an external sight tube with 5-litre markings to\n",
    "measure the contents of this reservoir (Fig. 1a). To measure volumetric\n",
    "flow rate ($Q$), the outlet in the base of the reservoir is closed by\n",
    "the use of a drain plug column, and a stopwatch is used to measure\n",
    "$\\Delta t$, the time required for the water level to rise between chosen\n",
    "graduations. The outlet is then opened to return the contents of the\n",
    "reservoir to the sump.  Volumetric flowrate $Q$ is obtained as,\n",
    "\n",
    "$\\small  Q = \\frac{V}{\\Delta t}$  (1)\n",
    "\n",
    "where $V$ is the volume of water obtained from the water level of the reservoir.\n",
    "\n",
    "\n",
    "#### Rotameter\n",
    "\n",
    "A rotameter is a variable-area volumetric flow measurement device that consists of a graduated vertical tapered tube with the fluid flow moving upward through the tube, past the float, as shown in Fig. 1b. Rotameter's accuracy is ±3% of full-scale reading. \n",
    "\n",
    "Rotameter uses the principle of force balance on the float. The float remains stationary when the weight of the float is balanced by the buoyancy and pressure drag force. When the float is in a particular position for a flow rate, the differential pressure varies with the square of flow rate (from Bernoulli’s principle). Therefore, to keep differential pressure constant for some other flow rate, the annular area in between the float and vertical tube must change. Rotameters are designed to have a linear relationship between the position of the float ($x$) and flow rate by making the area of cross-section of the tube vary linearly with the vertical height.\n",
    "\n",
    "$\\small  Q = K_1 + K_2 x$  (2)\n",
    "\n",
    "where constants $K_1$ and $K_2$ are obtained from the calibration curve of the device.\n",
    "\n",
    "\n",
    "#### Venturi meter\n",
    "\n",
    "A venturi meter (Fig. 2a) is an obstructive type flowmeter in which the fluid flowing through a pipe is led\n",
    "through a contraction section to a throat having a smaller cross-sectional area than the pipe,\n",
    "resulting in a pressure variation along the meter. The differential pressure output is then calibrated in terms of volume flow rate based on Bernoulli's equation. Applying Bernoulli's principle and continuity equation between flowmeter inlet (point 1) and throat section (point 2) gives,\n",
    "\n",
    "$\\small Q_{theory}= \\frac{A_2}{\\sqrt{[1-(\\frac{A_2}{A_1})^2]}} {\\sqrt{\\frac{2g(p_1 - p_2)}{\\rho}}}$   (3)\n",
    "\n",
    "where $Q_{theory}$ is the theoretical volume flowrate, $A$ denotes area, $p$ is the pressure, $\\rho$ is the fluid density and $g$ is the acceleration due to gravity. \n",
    "\n",
    "Bernoulli's principle operates under the assumption that viscous effects are negligible. For venturi meters, the discharge coefficient $C_d$  is used to account for viscous effects in the flow and to calculate actual flowrate $Q$,\n",
    "\n",
    "$\\small Q = C_d Q_{theory}$  (4)\n",
    "\n",
    "For a given fluid and venturi-meter, quantities - $\\rho$,$g$, $A_1$,$A_2$,$C_d$, are constants. Then the Eqn. 3 and Eqn.4 can be combined to obtain simplified caliberation equation,\n",
    "\n",
    "$\\small Q = C \\sqrt {\\Delta p}$  (5)\n",
    "\n",
    "where, C is is caliberation constant which depends on quantities - $\\rho$,$g$, $A_1$,$A_2$,$C_d$.\n",
    "\n",
    "Note that pressure in Eqn. 3 & 5 can be expressed as absolute pressure, gauge pressure, or mm of a water column as long as the user is consistent and use the same pressure definition at all locations.\n",
    "\n",
    "#### Turbine flowmeter\n",
    "\n",
    "The turbine flowmeters (Fig. 2b) are inferential type flowmeters that operate on the principle of transformation of linear momentum of the fluid into angular momentum of the turbine blades. This angular velocity is picked\n",
    "up magnetically through the hall sensor and calibrated to provide a very accurate measure of the flow rate through the meter.\n",
    "\n",
    "$\\small Q = K f$  (6)\n",
    "\n",
    "where $K$ is factory provided calibration constant, also known as K-factor and $f$ is the frequency of the electromagnetic signal measured by the hall sensor. The typical accuracy of turbine flowmeters is ±3% of the reading.\n",
    "\n",
    "For more details on the flow equations and derivations of various flowmeters refer to [3,4]\n",
    "\n",
    "#### Note on flow meter error\n",
    "\n",
    "In flow measurement, flow meter error is typically reported by a percentage indicating the non-linearity of the device. This can be expressed as either a ± percentage based on either the full range capacity of the device or as a percentage of the actual indicated flow. In practice, the flow meter error is a combination of repeatability, accuracy, and the uncertainty of the reference calibration [5,6]\n"
   ]
  },
  {
   "cell_type": "code",
   "execution_count": 2,
   "metadata": {
    "tags": [
     "hide-inputs"
    ]
   },
   "outputs": [
    {
     "data": {
      "image/png": "[encoded data removed]",
      "text/plain": [
       "<Figure size 432x288 with 1 Axes>"
      ]
     },
     "metadata": {
      "needs_background": "light"
     },
     "output_type": "display_data"
    }
   ],
   "source": [
    "vrate = np.logspace(0,2)\n",
    "error = (1 + 0.03*vrate)/vrate*100\n",
    "plt.semilogx(vrate, error, 'r-')\n",
    "plt.semilogx(vrate, -error, 'r-')\n",
    "plt.semilogx(vrate, 3*np.ones(vrate.shape), 'k--')\n",
    "plt.semilogx(vrate, -3*np.ones(vrate.shape), 'k--')\n",
    "plt.xlabel('% of meter range')\n",
    "plt.ylabel('measurement error (%)')\n",
    "plt.title('Error in flowmeter reading for +/-3% full-scale reading');"
   ]
  },
  {
   "cell_type": "markdown",
   "metadata": {
    "tags": [
     "hide-inputs"
    ]
   },
   "source": [
    "### Flowrate Meter Caliberation Example - Venturi meter\n",
    "\n"
   ]
  },
  {
   "cell_type": "markdown",
   "metadata": {},
   "source": [
    "#### Problem 1 \n",
    "\n",
    "Let's consider a pipe installed with venturi meter to measure the volume flowrate through the pipe. Following table consists of actual flowrate $Q$ (measured by some reference technique), and pressure drop $\\Delta p$, recorded by venturi meter. Obtain the caliberation curve coeffcients of the venturi meter using linear regression. \n",
    "\n",
    "\n",
    "|$Q$, LPM| $\\Delta p$, (mm of water)\n",
    "|---     | ---        | \n",
    "|11.37   | 55         | \n",
    "|9.84    | 44         | \n",
    "|9.00    | 34         | \n",
    "|8.10    | 28         | \n",
    "|7.00    | 22         | \n",
    "|6.00    | 18         | \n",
    "|4.34    | 8          | \n"
   ]
  },
  {
   "cell_type": "code",
   "execution_count": 3,
   "metadata": {},
   "outputs": [
    {
     "name": "stdout",
     "output_type": "stream",
     "text": [
      "Caliberation equation for venturi meter is Q = 1.510 Δp^0.5 \n",
      " \n",
      "Caliberation coefficent   1.510 +/- 0.015 \n",
      "\n"
     ]
    },
    {
     "data": {
      "text/plain": [
       "Text(0, 0.5, 'Q (LPM)')"
      ]
     },
     "execution_count": 3,
     "metadata": {},
     "output_type": "execute_result"
    },
    {
     "data": {
      "image/png": "[encoded data removed]",
      "text/plain": [
       "<Figure size 432x288 with 1 Axes>"
      ]
     },
     "metadata": {
      "needs_background": "light"
     },
     "output_type": "display_data"
    }
   ],
   "source": [
    "from scipy.optimize import curve_fit\n",
    "\n",
    "\n",
    "def func(x,k):\n",
    "    '''fits the linear equation y = kx\n",
    "    This equation can be replaced by polynomial or exponential \n",
    "    as per the fitting goals of the problem'''\n",
    "    return k*x\n",
    "\n",
    "Q = [11.37,9.84,9.00,8.10,7.00,6.00,4.34]   # LPM\n",
    "dp = [55,44,34,28,22,18,8]                  # mm of water\n",
    "\n",
    "k,pcov=curve_fit(func, np.sqrt(dp), Q)  #we are trying to fit Q = k*(dp)^0.5\n",
    "k_error=np.sqrt(pcov[0,0])\n",
    "\n",
    "print(\"Caliberation equation for venturi meter is Q = %1.3f \\u0394p^0.5 \\n \"%(k))\n",
    "print(\"Caliberation coefficent   %1.3f +/- %1.3f \\n\"%(k,k_error))\n",
    "\n",
    "plt.plot(np.sqrt(dp),Q,'o',label='experiment')\n",
    "plt.plot(np.sqrt(dp),func(np.sqrt(dp),k),label='model')\n",
    "plt.legend()\n",
    "plt.xlabel(r'$\\sqrt{\\Delta p}$, (mm of water)')\n",
    "plt.ylabel('Q (LPM)')"
   ]
  },
  {
   "cell_type": "markdown",
   "metadata": {},
   "source": [
    "#### Check your work\n",
    "\n",
    "In the above example, fit the data to power function of the form \n",
    "\n",
    "$\\small Q = a (\\Delta p)^b$\n",
    "\n",
    "what is the value of a and b? Do you think power function is better fit than the linear equation fit for the venturi-meter data?"
   ]
  },
  {
   "cell_type": "code",
   "execution_count": null,
   "metadata": {},
   "outputs": [],
   "source": [
    "## # enter your work here - Uncomment the following lines of code and make necessary changes\n",
    "\n",
    "# def power_func(x,a,b):\n",
    "#     '''fits the linear equation y = kx\n",
    "#     This equation can be replaced by polynomial or exponential \n",
    "#     as per the fitting goals of the problem'''\n",
    "#     return ??\n",
    "\n",
    "# Q = np.array([11.37,9.84,9.00,8.10,7.00,6.00,4.34])   # LPM\n",
    "# dp = np.array([55,44,34,28,22,18,8])                  # mm of water\n",
    "\n",
    "# k,pcov=??\n",
    "# a = k[0]\n",
    "# b = k[1]\n",
    "\n",
    "# print(\"Caliberation equation for venturi meter is Q = %1.3f \\u0394p^%1.3f \"%(a,b))\n",
    "\n",
    "# plt.plot(dp,Q,'o',label='experiment')\n",
    "# plt.plot(dp,power_func(dp,a,b),label='model')\n",
    "# plt.legend()\n",
    "# plt.xlabel(r'$\\sqrt{\\Delta p}$, (mm of water)')\n",
    "# plt.ylabel('Q (LPM)')\n",
    "\n",
    "\n",
    "import check_lab03 as p\n",
    "p.check_p01(a,b)\n"
   ]
  },
  {
   "cell_type": "markdown",
   "metadata": {},
   "source": [
    "## Procedure \n",
    "\n",
    "The procedure and details of the experiment are included in a lab-handout [1].\n",
    "\n",
    "[ME3264_Lab_3a_Fluid_Flow_Measurement.pdf](https://drive.google.com/file/d/1H4aeHknTJzxyPItLyjnBkoUFeRymS8kI/view?usp=sharing)\n"
   ]
  },
  {
   "cell_type": "markdown",
   "metadata": {},
   "source": [
    "## Notes on error propagation and uncertainties\n",
    "\n",
    "For this lab, you should prepare calibration equations for each device. Also include an estimate of the uncertainty\n",
    "for calibration coefficients (i.e., the coefficients of each equation).\n",
    "\n",
    "You should include a comparison of the relative coefficient uncertainty between devices, whether a linear regression is an appropriate technique, and the relative appropriateness of using a “universal” calibration for any one type of device (e.g., should you use the same calibration equation for two Venturi meters with the same nominal dimensions).\n"
   ]
  },
  {
   "cell_type": "markdown",
   "metadata": {},
   "source": [
    "## References \n",
    "\n",
    "1. [ME3264_Lab_3a_Fluid_Flow_Measurement.pdf](https://drive.google.com/file/d/1H4aeHknTJzxyPItLyjnBkoUFeRymS8kI/view?usp=sharing)\n",
    "2. [Notes on error propagation, ME 3264- Lab 1 - Heat Engine Notebook ](https://cooperrc.github.io/applied_measurements/lab_01/ME3264_Lab-01.html#lab-1-heat-engine)\n",
    "3. B.R. Munson, D.F. Young, T.H. Okiishi, and W.W. Huebsch, Fundamentals of Fluid Mechanics, Seventh\n",
    "Edition, Chapter 8\n",
    "4. [IDC instrumentation manual](https://www.idc-online.com/technical_references/pdfs/instrumentation/Industrial_Instrumentation%20-%20Flow.pdf)\n",
    "5. [Flow meter error](https://en.wikipedia.org/wiki/Flow_meter_error) \n",
    "6. [Liquid Flow Meter Performance & Specification: Glossary](https://www.flowmeters.co.uk/liquid-flow-meter-performance-specification-glossary/)\n"
   ]
  },
  {
   "cell_type": "code",
   "execution_count": null,
   "metadata": {},
   "outputs": [],
   "source": []
  }
 ],
 "metadata": {
  "kernelspec": {
   "display_name": "Python 3",
   "language": "python",
   "name": "python3"
  },
  "language_info": {
   "codemirror_mode": {
    "name": "ipython",
    "version": 3
   },
   "file_extension": ".py",
   "mimetype": "text/x-python",
   "name": "python",
   "nbconvert_exporter": "python",
   "pygments_lexer": "ipython3",
   "version": "3.7.9"
  }
 },
 "nbformat": 4,
 "nbformat_minor": 4
}
